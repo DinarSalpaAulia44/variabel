{
 "cells": [
  {
   "cell_type": "markdown",
   "id": "6ae5aac1",
   "metadata": {},
   "source": [
    "<h1>Variable dan Tipe Data</h1><hr>\n",
    "Tipe Data pada Phyton adalah:\n",
    "<ol>\n",
    "    <li>Float - (float)</li>\n",
    "    <li>String - (str)</li>\n",
    "    <li>Boolean - (Bool)</li>\n",
    "    <li>Interger - (int)</li>\n",
    "</ol><hr>\n",
    "\n",
    "<font color= \"\"><i>Aturan penamaan Variabel:</i></font>\n",
    "<ul>\n",
    "    <li>Tidak boleh menggunakan spasi</li>\n",
    "    <li>Bersifat case sensitive => A != a</li>\n",
    "    <li>Terdiri dari huruf, angka dan karakter _ (underscore)</li>\n",
    "    <li>Diawali underscore atau huruf (tidak boleh diawali oleh angka)</li>\n",
    "    <li>Tidajk boleh menggunakan reserved keyword</li>\n",
    "</ul>"
   ]
  },
  {
   "cell_type": "code",
   "execution_count": 11,
   "id": "b50685ef",
   "metadata": {
    "scrolled": false
   },
   "outputs": [
    {
     "name": "stdout",
     "output_type": "stream",
     "text": [
      "100\n",
      "1\n",
      "49.4\n",
      "100\n"
     ]
    }
   ],
   "source": [
    "data_interger = 100\n",
    "data_float = 50.6\n",
    "data_string = \"1\"\n",
    "data_boolean = True\n",
    "\n",
    "\n",
    "data_string\n",
    "print(data_interger)\n",
    "print(data_string)\n",
    "print(data_interger - data_float)\n",
    "print(data_interger)"
   ]
  },
  {
   "cell_type": "code",
   "execution_count": null,
   "id": "2d70a400",
   "metadata": {},
   "outputs": [],
   "source": [
    "print(type(data_interger))\n",
    "print(type(data_float))\n",
    "print(type(data_string))\n",
    "print(type(data_boolean))"
   ]
  },
  {
   "cell_type": "markdown",
   "id": "cf84ab7d",
   "metadata": {},
   "source": [
    "<h3><font color=\"maroon\"><u> Konversi Tipe Data dari Interger ke (String,Float,Boolean)</u></font></h3>"
   ]
  },
  {
   "cell_type": "code",
   "execution_count": 13,
   "id": "4f5b60a1",
   "metadata": {},
   "outputs": [
    {
     "name": "stdout",
     "output_type": "stream",
     "text": [
      "Isikan bilangan 1: 20\n",
      "Isikan bilangan 2: 55\n",
      "2055\n"
     ]
    }
   ],
   "source": [
    "bill1 = input(\"Isikan bilangan 1: \")\n",
    "bill2 = input(\"Isikan bilangan 2: \")\n",
    "hasil = bill1 + bill2\n",
    "\n",
    "print(hasil)"
   ]
  },
  {
   "cell_type": "code",
   "execution_count": 14,
   "id": "15736b0c",
   "metadata": {},
   "outputs": [
    {
     "name": "stdout",
     "output_type": "stream",
     "text": [
      "Isikan bilangan 1: 55\n",
      "Isikan bilangan 2: 45\n",
      "100\n"
     ]
    }
   ],
   "source": [
    "bill1 = input(\"Isikan bilangan 1: \")\n",
    "bill2 = input(\"Isikan bilangan 2: \")\n",
    "hasil = int(bill1) + int(bill2)\n",
    "\n",
    "print(hasil)"
   ]
  },
  {
   "cell_type": "code",
   "execution_count": 16,
   "id": "4f124ca5",
   "metadata": {},
   "outputs": [
    {
     "name": "stdout",
     "output_type": "stream",
     "text": [
      "1\n",
      "50\n",
      "1\n",
      "<class 'str'>\n",
      "<class 'int'>\n",
      "<class 'int'>\n"
     ]
    }
   ],
   "source": [
    "string_to_int = int(data_string)\n",
    "float_to_int = int(data_float)\n",
    "bool_to_int = int(data_boolean)\n",
    "\n",
    "print(string_to_int)\n",
    "print(float_to_int)\n",
    "print(bool_to_int)\n",
    "\n",
    "print(type(string_to_int))\n",
    "print(type(float_to_int))\n",
    "print(type(bool_to_int))"
   ]
  },
  {
   "cell_type": "code",
   "execution_count": 18,
   "id": "8e61171a",
   "metadata": {},
   "outputs": [
    {
     "name": "stdout",
     "output_type": "stream",
     "text": [
      "100\n",
      "50.6\n",
      "True\n",
      "<class 'str'>\n",
      "<class 'str'>\n",
      "<class 'str'>\n"
     ]
    }
   ],
   "source": [
    "int_to_string = str(data_interger)\n",
    "float_to_string = str(data_float)\n",
    "bool_to_string = str(data_boolean)\n",
    "\n",
    "print(int_to_string)\n",
    "print(float_to_string)\n",
    "print(bool_to_string)\n",
    "\n",
    "print(type(int_to_string))\n",
    "print(type(float_to_string))\n",
    "print(type(bool_to_string))"
   ]
  },
  {
   "cell_type": "code",
   "execution_count": 21,
   "id": "efc5d882",
   "metadata": {},
   "outputs": [
    {
     "name": "stdout",
     "output_type": "stream",
     "text": [
      "1.0\n",
      "100.0\n",
      "1.0\n",
      "<class 'float'>\n",
      "<class 'float'>\n",
      "<class 'float'>\n"
     ]
    }
   ],
   "source": [
    "string_to_float = float(data_string)\n",
    "int_to_float = float(data_interger)\n",
    "bool_to_float = float(data_boolean)\n",
    "\n",
    "print(string_to_float)\n",
    "print(int_to_float)\n",
    "print(bool_to_float)\n",
    "\n",
    "print(type(string_to_float))\n",
    "print(type(int_to_float))\n",
    "print(type(bool_to_float))"
   ]
  },
  {
   "cell_type": "code",
   "execution_count": 22,
   "id": "f63d53d3",
   "metadata": {},
   "outputs": [
    {
     "name": "stdout",
     "output_type": "stream",
     "text": [
      "True\n",
      "True\n",
      "True\n",
      "<class 'bool'>\n",
      "<class 'bool'>\n",
      "<class 'bool'>\n"
     ]
    }
   ],
   "source": [
    "string_to_bool = bool(data_string)\n",
    "float_to_bool = bool(data_float)\n",
    "int_to_bool = bool(data_boolean)\n",
    "\n",
    "print(string_to_bool)\n",
    "print(float_to_bool)\n",
    "print(int_to_bool)\n",
    "\n",
    "print(type(string_to_bool))\n",
    "print(type(float_to_bool))\n",
    "print(type(int_to_bool))"
   ]
  }
 ],
 "metadata": {
  "kernelspec": {
   "display_name": "Python 3 (ipykernel)",
   "language": "python",
   "name": "python3"
  },
  "language_info": {
   "codemirror_mode": {
    "name": "ipython",
    "version": 3
   },
   "file_extension": ".py",
   "mimetype": "text/x-python",
   "name": "python",
   "nbconvert_exporter": "python",
   "pygments_lexer": "ipython3",
   "version": "3.9.12"
  }
 },
 "nbformat": 4,
 "nbformat_minor": 5
}
